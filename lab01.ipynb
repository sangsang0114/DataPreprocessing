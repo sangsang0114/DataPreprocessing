{
 "cells": [
  {
   "cell_type": "markdown",
   "id": "b7679ec7",
   "metadata": {},
   "source": [
    "Lab01.py \n",
    "\n",
    "\n",
    "공유 폴더에서 다음 파일을 복사하세요. \n",
    "lab01_car_report.xls    :   자동차 등록 현황 엑셀 파일이다.  \n",
    "\n",
    "import pandas as pd\n",
    "\n",
    "lab01_data = pd.read_excel(\"lab01_car_report.xls\",encording=\"utf-8\")\n",
    "\n",
    "print(lab01_data )\n",
    "    \n",
    "\n",
    "1) 위의 파일을 읽고, 모두 출력 \n",
    "2) 행 제목만 출력 \n",
    "3) 열 제목만 출력  \n",
    "4) 통계적 개요 (평균, 표준편차, 최소, 최대 값 등) 출력\n",
    "5) 두번째 열 제목만 출력\n",
    "6) 두번째 컬럼을 기준으로 내림차순 정렬하여 출력 \n",
    "7) 첫번째 행만 출력\n",
    "8) 첫번째 행, 첫번째 열 만 출력  \n",
    "9) 컬럼 제목 “계”  인 데이터만 출력\n",
    "10) 화물차 와 특수차 정보만 출력 \n",
    " \n",
    "\n",
    " "
   ]
  },
  {
   "cell_type": "code",
   "execution_count": null,
   "id": "dc61d7da",
   "metadata": {},
   "outputs": [],
   "source": [
    "#!pip install xlrd"
   ]
  },
  {
   "cell_type": "code",
   "execution_count": 1,
   "id": "f42d8750",
   "metadata": {},
   "outputs": [],
   "source": [
    "import pandas as pd\n",
    "lab01_data = pd.read_csv(\"lab01_car_report.csv\")\n",
    "#lab01_data = pd.read_excel(\"lab01_car_report.csv\")"
   ]
  },
  {
   "cell_type": "code",
   "execution_count": 2,
   "id": "ab910515",
   "metadata": {},
   "outputs": [
    {
     "name": "stdout",
     "output_type": "stream",
     "text": [
      "  규모별          계        승용차      승합차      화물차    특수차\n",
      "0   계  3,116,256  2,641,190  127,564  339,921  7,581\n",
      "1  경형    220,851    191,736    7,818   21,278     19\n",
      "2  소형    323,859     75,636    5,986  238,603  3,634\n",
      "3  중형  1,689,724  1,528,821  100,000   58,830  2,073\n",
      "4  대형    881,822    844,997   13,760   21,210  1,855\n"
     ]
    }
   ],
   "source": [
    "#1. 모두 출력\n",
    "print(lab01_data)"
   ]
  },
  {
   "cell_type": "code",
   "execution_count": 3,
   "id": "46e6d23e",
   "metadata": {},
   "outputs": [
    {
     "name": "stdout",
     "output_type": "stream",
     "text": [
      "계\n",
      "경형\n",
      "소형\n",
      "중형\n",
      "대형\n"
     ]
    }
   ],
   "source": [
    "#2. 행 제목만 출력\n",
    "for v in lab01_data.values:\n",
    "    print(v[0])"
   ]
  },
  {
   "cell_type": "code",
   "execution_count": 4,
   "id": "521105fc",
   "metadata": {},
   "outputs": [
    {
     "name": "stdout",
     "output_type": "stream",
     "text": [
      "규모별\n",
      "계\n",
      "승용차\n",
      "승합차\n",
      "화물차\n",
      "특수차\n"
     ]
    }
   ],
   "source": [
    "#3.열 제목만 출력\n",
    "for c in lab01_data.columns:\n",
    "    print(c)"
   ]
  },
  {
   "cell_type": "code",
   "execution_count": 20,
   "id": "ed2e20fb",
   "metadata": {},
   "outputs": [
    {
     "name": "stdout",
     "output_type": "stream",
     "text": [
      "       규모별          계        승용차      승합차      화물차    특수차\n",
      "count    5          5          5        5        5      5\n",
      "unique   5          5          5        5        5      5\n",
      "top      계  3,116,256  2,641,190  127,564  339,921  7,581\n",
      "freq     1          1          1        1        1      1\n"
     ]
    }
   ],
   "source": [
    "#4. 통계적 개요 (평균, 표준편차, 최소, 최대 값 등) 출력\n",
    "print(lab01_data.describe())"
   ]
  },
  {
   "cell_type": "code",
   "execution_count": 30,
   "id": "c57d8961",
   "metadata": {},
   "outputs": [
    {
     "name": "stdout",
     "output_type": "stream",
     "text": [
      "승용차\n"
     ]
    }
   ],
   "source": [
    "#5. 두번째 열 제목만 출력\n",
    "print(lab01_data.columns[2])"
   ]
  },
  {
   "cell_type": "code",
   "execution_count": 25,
   "id": "ffb2700d",
   "metadata": {},
   "outputs": [
    {
     "name": "stdout",
     "output_type": "stream",
     "text": [
      "  규모별          계        승용차      승합차      화물차    특수차\n",
      "4  대형    881,822    844,997   13,760   21,210  1,855\n",
      "2  소형    323,859     75,636    5,986  238,603  3,634\n",
      "0   계  3,116,256  2,641,190  127,564  339,921  7,581\n",
      "1  경형    220,851    191,736    7,818   21,278     19\n",
      "3  중형  1,689,724  1,528,821  100,000   58,830  2,073\n"
     ]
    }
   ],
   "source": [
    "#6 두번째 컬럼을 기준으로 내림차순 정렬\n",
    "print(lab01_data.sort_values(by='계',ascending=False))"
   ]
  },
  {
   "cell_type": "code",
   "execution_count": 26,
   "id": "e60db0db",
   "metadata": {},
   "outputs": [
    {
     "name": "stdout",
     "output_type": "stream",
     "text": [
      "  규모별          계        승용차      승합차      화물차    특수차\n",
      "0   계  3,116,256  2,641,190  127,564  339,921  7,581\n"
     ]
    }
   ],
   "source": [
    "#7. 첫번째 행만 출력\n",
    "print(lab01_data[0:1])"
   ]
  },
  {
   "cell_type": "code",
   "execution_count": 29,
   "id": "449d5e93",
   "metadata": {},
   "outputs": [
    {
     "name": "stdout",
     "output_type": "stream",
     "text": [
      "3,116,256\n"
     ]
    }
   ],
   "source": [
    "#8. 첫번째 행, 첫번째 열만 출력\n",
    "print(lab01_data.loc[0,'계'])"
   ]
  },
  {
   "cell_type": "code",
   "execution_count": 31,
   "id": "68e5a42a",
   "metadata": {},
   "outputs": [
    {
     "name": "stdout",
     "output_type": "stream",
     "text": [
      "0    3,116,256\n",
      "1      220,851\n",
      "2      323,859\n",
      "3    1,689,724\n",
      "4      881,822\n",
      "Name: 계, dtype: object\n"
     ]
    }
   ],
   "source": [
    "# 9.컬럼 제목 “계” 인 데이터만 출력\n",
    "print(lab01_data['계'])"
   ]
  },
  {
   "cell_type": "code",
   "execution_count": 32,
   "id": "d9406159",
   "metadata": {},
   "outputs": [
    {
     "data": {
      "text/html": [
       "<div>\n",
       "<style scoped>\n",
       "    .dataframe tbody tr th:only-of-type {\n",
       "        vertical-align: middle;\n",
       "    }\n",
       "\n",
       "    .dataframe tbody tr th {\n",
       "        vertical-align: top;\n",
       "    }\n",
       "\n",
       "    .dataframe thead th {\n",
       "        text-align: right;\n",
       "    }\n",
       "</style>\n",
       "<table border=\"1\" class=\"dataframe\">\n",
       "  <thead>\n",
       "    <tr style=\"text-align: right;\">\n",
       "      <th></th>\n",
       "      <th>화물차</th>\n",
       "      <th>특수차</th>\n",
       "    </tr>\n",
       "  </thead>\n",
       "  <tbody>\n",
       "    <tr>\n",
       "      <th>0</th>\n",
       "      <td>339,921</td>\n",
       "      <td>7,581</td>\n",
       "    </tr>\n",
       "    <tr>\n",
       "      <th>1</th>\n",
       "      <td>21,278</td>\n",
       "      <td>19</td>\n",
       "    </tr>\n",
       "    <tr>\n",
       "      <th>2</th>\n",
       "      <td>238,603</td>\n",
       "      <td>3,634</td>\n",
       "    </tr>\n",
       "    <tr>\n",
       "      <th>3</th>\n",
       "      <td>58,830</td>\n",
       "      <td>2,073</td>\n",
       "    </tr>\n",
       "    <tr>\n",
       "      <th>4</th>\n",
       "      <td>21,210</td>\n",
       "      <td>1,855</td>\n",
       "    </tr>\n",
       "  </tbody>\n",
       "</table>\n",
       "</div>"
      ],
      "text/plain": [
       "       화물차    특수차\n",
       "0  339,921  7,581\n",
       "1   21,278     19\n",
       "2  238,603  3,634\n",
       "3   58,830  2,073\n",
       "4   21,210  1,855"
      ]
     },
     "execution_count": 32,
     "metadata": {},
     "output_type": "execute_result"
    }
   ],
   "source": [
    "#10. 화물차 와 특수차 정보만 출력\n",
    "lab01_data.loc[:, ('화물차','특수차')]"
   ]
  },
  {
   "cell_type": "code",
   "execution_count": null,
   "id": "4019ec19",
   "metadata": {},
   "outputs": [],
   "source": []
  }
 ],
 "metadata": {
  "kernelspec": {
   "display_name": "Python 3 (ipykernel)",
   "language": "python",
   "name": "python3"
  },
  "language_info": {
   "codemirror_mode": {
    "name": "ipython",
    "version": 3
   },
   "file_extension": ".py",
   "mimetype": "text/x-python",
   "name": "python",
   "nbconvert_exporter": "python",
   "pygments_lexer": "ipython3",
   "version": "3.11.5"
  }
 },
 "nbformat": 4,
 "nbformat_minor": 5
}
