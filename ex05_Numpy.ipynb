{
 "cells": [
  {
   "cell_type": "markdown",
   "metadata": {},
   "source": [
    "## Numpy"
   ]
  },
  {
   "cell_type": "markdown",
   "metadata": {},
   "source": [
    "수치해석용 파이썬 패키지"
   ]
  },
  {
   "cell_type": "markdown",
   "metadata": {},
   "source": [
    "#### [ NumPy 배열 (array) ]"
   ]
  },
  {
   "cell_type": "markdown",
   "metadata": {},
   "source": [
    "- 리스트와 차이점<br>\n",
    "모든 원소가 같은 자료형.<br>\n",
    "원소의 수 변경 불가능<br>\n",
    "리스트보다 적은 메모리사용. 빠른 처리<br>\n",
    "다차원의 배열 자료구조 클래스인 ndarray 클래스를 지원<br>\n",
    "벡터와 행렬을 사용하는 선형대수 계산에 주로 사용\n",
    "\n",
    "스칼라. 하나의 값 0차원 ex) a = 10\n",
    "벡터 1차원 배열 ex) a = [1, 2, 3, 4]. 모든 원소가 같은 자료형 <br/>\n",
    "행렬 2차원 배열 ex) a = [[1, 2, 3],[4,5,6]] 모든 원소가 같은 자료형 <br/>\n",
    "tensor 다차원 배열. 모든 원소가 같은 자료형"
   ]
  },
  {
   "cell_type": "code",
   "execution_count": 1,
   "metadata": {},
   "outputs": [],
   "source": [
    "import numpy as np"
   ]
  },
  {
   "cell_type": "markdown",
   "metadata": {},
   "source": [
    "#### [ 1차원 배열 만들기 ]"
   ]
  },
  {
   "cell_type": "markdown",
   "metadata": {},
   "source": [
    "NumPy의 array라는 함수에 리스트를 넣으면 배열로 변환"
   ]
  },
  {
   "cell_type": "code",
   "execution_count": 2,
   "metadata": {
    "scrolled": true
   },
   "outputs": [
    {
     "data": {
      "text/plain": [
       "array([0, 1, 2, 3, 4, 5, 6, 7, 8, 9])"
      ]
     },
     "execution_count": 2,
     "metadata": {},
     "output_type": "execute_result"
    }
   ],
   "source": [
    "data = [0,1,2,3,4,5,6,7,8,9]\n",
    "x = np.array(data)\n",
    "x"
   ]
  },
  {
   "cell_type": "code",
   "execution_count": 3,
   "metadata": {},
   "outputs": [
    {
     "data": {
      "text/plain": [
       "numpy.ndarray"
      ]
     },
     "execution_count": 3,
     "metadata": {},
     "output_type": "execute_result"
    }
   ],
   "source": [
    "type(x)"
   ]
  },
  {
   "cell_type": "markdown",
   "metadata": {},
   "source": [
    "#### [벡터화 연산]"
   ]
  },
  {
   "cell_type": "markdown",
   "metadata": {},
   "source": [
    "배열 객체는 배열의 각 원소에 대한 반복 연산을 하나의 명령어로 처리"
   ]
  },
  {
   "cell_type": "code",
   "execution_count": 4,
   "metadata": {},
   "outputs": [
    {
     "data": {
      "text/plain": [
       "array([ 0,  2,  4,  6,  8, 10, 12, 14, 16, 18])"
      ]
     },
     "execution_count": 4,
     "metadata": {},
     "output_type": "execute_result"
    }
   ],
   "source": [
    "# 벡터 연산\n",
    "x = x*2\n",
    "x  "
   ]
  },
  {
   "cell_type": "markdown",
   "metadata": {},
   "source": [
    "Cf. 일반적인 리스트 객체에 정수를 곱하면 객체의 크기가 정수배 만큼으로 증가\n"
   ]
  },
  {
   "cell_type": "code",
   "execution_count": 5,
   "metadata": {
    "scrolled": true
   },
   "outputs": [
    {
     "name": "stdout",
     "output_type": "stream",
     "text": [
      "[0, 1, 2, 3, 4, 5, 6, 7, 8, 9, 0, 1, 2, 3, 4, 5, 6, 7, 8, 9]\n"
     ]
    }
   ],
   "source": [
    "data = [0,1,2,3,4,5,6,7,8,9]\n",
    "print(data *2)"
   ]
  },
  {
   "cell_type": "code",
   "execution_count": 6,
   "metadata": {},
   "outputs": [
    {
     "name": "stdout",
     "output_type": "stream",
     "text": [
      "[12 24 36]\n",
      "[False  True False]\n",
      "[False  True  True]\n",
      "[False  True False]\n"
     ]
    }
   ],
   "source": [
    "# 벡터 연산\n",
    "a = np.array( [1,2,3])\n",
    "b = np.array( [10,20,30] )\n",
    "print (a*2 + b)\n",
    "print (a==2)\n",
    "print (b > 10 )\n",
    "print ( (a==2) & (b>10))"
   ]
  },
  {
   "cell_type": "markdown",
   "metadata": {},
   "source": [
    "#### [2차원 배열 만들기 ]"
   ]
  },
  {
   "cell_type": "markdown",
   "metadata": {},
   "source": [
    "2차원 배열은 행렬(matrix) <br>\n",
    "가로줄을 행(row) 세로줄을 열(column)"
   ]
  },
  {
   "cell_type": "code",
   "execution_count": 7,
   "metadata": {
    "scrolled": true
   },
   "outputs": [
    {
     "name": "stdout",
     "output_type": "stream",
     "text": [
      "2\n",
      "[[0 1 2]\n",
      " [3 4 5]]\n",
      "-----\n",
      "[[ 1  4  9]\n",
      " [ 4 10 18]\n",
      " [ 7 16 27]]\n",
      "-------\n",
      "[30 36 42]\n"
     ]
    }
   ],
   "source": [
    "#행렬\n",
    "c = np.array([[0,1,2], [3,4,5]])\n",
    "print(len(c))  #행의 수\n",
    "print(c)\n",
    "\n",
    "print('-----')\n",
    "\n",
    "c1 = np.array([1,2,3])\n",
    "c2 = np.array([[1,2,3],[4,5,6],[7,8,9]])\n",
    "print(c1*c2) #행렬간의 곱셈\n",
    "'''\n",
    "1 2 3   1    => 1 + 4 \n",
    "4 5 6   2    => 4 + 10\n",
    "7 8 9   3    => 7 + 16\n",
    "'''\n",
    "print('-------')\n",
    "print(c1.dot(c2))"
   ]
  },
  {
   "cell_type": "markdown",
   "metadata": {},
   "source": [
    "#### [3차원 배열 만들기 ]"
   ]
  },
  {
   "cell_type": "code",
   "execution_count": 8,
   "metadata": {},
   "outputs": [
    {
     "data": {
      "text/plain": [
       "array([[[ 1,  2,  3,  4],\n",
       "        [ 5,  6,  7,  8],\n",
       "        [ 9, 10, 11, 12]],\n",
       "\n",
       "       [[11, 12, 13, 14],\n",
       "        [15, 16, 17, 18],\n",
       "        [19, 20, 21, 22]]])"
      ]
     },
     "execution_count": 8,
     "metadata": {},
     "output_type": "execute_result"
    }
   ],
   "source": [
    "d = np.array( [[[1,2,3,4],\n",
    "                [5,6,7,8],\n",
    "                [9,10,11,12]],\n",
    "               [[11,12,13,14] ,\n",
    "                 [15,16,17,18],\n",
    "                 [19,20,21,22]]] \n",
    ")\n",
    "d"
   ]
  },
  {
   "cell_type": "markdown",
   "metadata": {},
   "source": [
    "#### [배열의 차원과 크기 알아내기 ]"
   ]
  },
  {
   "cell_type": "markdown",
   "metadata": {},
   "source": [
    "dim 속성은 배열의 차원, shape 속성은 배열의 크기를 반환"
   ]
  },
  {
   "cell_type": "code",
   "execution_count": 9,
   "metadata": {},
   "outputs": [
    {
     "name": "stdout",
     "output_type": "stream",
     "text": [
      "3\n",
      "(2, 3, 4)\n"
     ]
    }
   ],
   "source": [
    "print(d.ndim) # 차원\n",
    "print(d.shape)"
   ]
  },
  {
   "cell_type": "code",
   "execution_count": 10,
   "metadata": {},
   "outputs": [
    {
     "name": "stdout",
     "output_type": "stream",
     "text": [
      "2\n",
      "(2, 3)\n"
     ]
    }
   ],
   "source": [
    "c = np.array([[0, 1, 2], [3, 4, 5]])\n",
    "print(c.ndim)\n",
    "print(c.shape)"
   ]
  },
  {
   "cell_type": "markdown",
   "metadata": {},
   "source": [
    "문제1)  NumPy를 사용하여 다음과 같은 2차원 행렬을 만든다.<br> \n",
    " <br>\n",
    "10 20 30 40 <br> \n",
    "50 60 70 80 <br> \n",
    "\n",
    "문제2)위 행렬의 모든 값에 3을 더하고, 10을 곱하여 출력. <br> "
   ]
  },
  {
   "cell_type": "code",
   "execution_count": 11,
   "metadata": {},
   "outputs": [
    {
     "name": "stdout",
     "output_type": "stream",
     "text": [
      "[[10 20 30 40]\n",
      " [50 60 70 80]]\n",
      "[[130 230 330 430]\n",
      " [530 630 730 830]]\n"
     ]
    }
   ],
   "source": [
    "#답01)\n",
    "sol = np.array([[10,20,30,40] ,[50,60,70,80]])\n",
    "print(sol)\n",
    "#답02)\n",
    "print((sol+3)*10)"
   ]
  },
  {
   "cell_type": "markdown",
   "metadata": {},
   "source": [
    "문제3) <br> \n",
    "m = np.array([[ 0,  1,  2,  3,  4], <br>\n",
    "              [ 5,  6,  7,  8,  9],  <br> <br>\n",
    "              [10, 11, 12, 13, 14]]) <br>\n",
    "1.\t이 행렬에서 값 7 을 인덱싱 <br>\n",
    "2.\t이 행렬에서 값 14 을 인덱싱 <br>\n",
    "3.\t이 행렬에서 배열 [6, 7] 을 슬라이싱 <br>\n",
    "4.\t이 행렬에서 배열 [7, 12] 을 슬라이싱 <br>\n",
    "5.\t이 행렬에서 배열 [[3, 4], [8, 9]]을 슬라이싱 <br>"
   ]
  },
  {
   "cell_type": "code",
   "execution_count": 12,
   "metadata": {},
   "outputs": [
    {
     "name": "stdout",
     "output_type": "stream",
     "text": [
      "7\n",
      "14\n",
      "[6 7]\n",
      "[ 7 12]\n",
      "[[3 4]\n",
      " [8 9]]\n"
     ]
    }
   ],
   "source": [
    "#답3)\n",
    "m = np.array([[0, 1, 2, 3, 4],[5, 6, 7, 8, 9],[10,11,12,13,14]])\n",
    "#1\n",
    "print(m[1,2])\n",
    "#2\n",
    "print(m[2,4])\n",
    "#3\n",
    "print(m[1,1:3])\n",
    "#4\n",
    "print(m[1:3,2])\n",
    "#5\n",
    "print(m[0:2, 3:5])"
   ]
  },
  {
   "cell_type": "markdown",
   "metadata": {},
   "source": [
    "문제4) <br> \n",
    "x = np.array([1, 2, 3, 4, 5, 6, 7, 8, 9, 10,  <br> \n",
    "              11, 12, 13, 14, 15, 16, 17, 18, 19, 20]) <br> \n",
    "1.\t이 배열에서 3의 배수를 찾아라. <br> \n",
    "2.\t이 배열에서 4로 나누면 1이 남는 수를 찾아라. <br> \n",
    "3.\t이 배열에서 3으로 나눈 나머지는 0이고, 4로 나누면 1이 남는 수를 찾아라 <br> \n"
   ]
  },
  {
   "cell_type": "code",
   "execution_count": 13,
   "metadata": {},
   "outputs": [
    {
     "name": "stdout",
     "output_type": "stream",
     "text": [
      "[ 3  6  9 12 15 18]\n",
      "[ 1  5  9 13 17]\n",
      "[9]\n"
     ]
    }
   ],
   "source": [
    "#답4)\n",
    "x = np.array([1, 2, 3, 4, 5, 6, 7, 8, 9, 10,\n",
    "11, 12, 13, 14, 15, 16, 17, 18, 19, 20])\n",
    "#1\n",
    "print(x[x%3==0])\n",
    "#2\n",
    "print(x[x%4==1])\n",
    "#3\n",
    "print(x[(x%4==1) & (x%3==0)])"
   ]
  },
  {
   "cell_type": "markdown",
   "metadata": {},
   "source": [
    "#### [배열의 인덱싱]"
   ]
  },
  {
   "cell_type": "code",
   "execution_count": 14,
   "metadata": {},
   "outputs": [
    {
     "name": "stdout",
     "output_type": "stream",
     "text": [
      "0 4\n"
     ]
    }
   ],
   "source": [
    "a = np.array([0, 1, 2, 3, 4])\n",
    "print(a[0], a[-1])         # 첫번째 , 마지막번째"
   ]
  },
  {
   "cell_type": "code",
   "execution_count": 15,
   "metadata": {},
   "outputs": [
    {
     "name": "stdout",
     "output_type": "stream",
     "text": [
      "0\n",
      "5\n"
     ]
    }
   ],
   "source": [
    "a = np.array([[0, 1, 2], [3, 4, 5]])\n",
    "print(a[0, 0])    # 첫번째 행의 첫번째 열\n",
    "print(a[-1, -1])  # 마지막 행의 마지막 열"
   ]
  },
  {
   "cell_type": "markdown",
   "metadata": {},
   "source": [
    "#### [배열의 슬라이싱]"
   ]
  },
  {
   "cell_type": "code",
   "execution_count": 16,
   "metadata": {},
   "outputs": [
    {
     "name": "stdout",
     "output_type": "stream",
     "text": [
      "[0 1 2 3]\n",
      "[0 4]\n",
      "[[0 1 2]\n",
      " [4 5 6]]\n"
     ]
    }
   ],
   "source": [
    "a = np.array([[0, 1, 2, 3], [4, 5, 6, 7]])\n",
    "print(a[0, :] ) # 0 행 모든열\n",
    "print(a[: , 0] ) # 모든행 0 열\n",
    "print(a[0:2, :-1] ) #0 행~1 행, 처음부터 마지막열까지"
   ]
  },
  {
   "cell_type": "code",
   "execution_count": 17,
   "metadata": {
    "scrolled": true
   },
   "outputs": [
    {
     "name": "stdout",
     "output_type": "stream",
     "text": [
      "[0 1 0 1 0 1 0 1 0 1]\n",
      "[ True False  True False  True False  True False  True False]\n",
      "[0 2 4 6 8]\n",
      "[0 1 2 3 4 5 6 7 8 9]\n",
      "[0 2 4 6 8]\n"
     ]
    }
   ],
   "source": [
    "a = np.array([0, 1, 2, 3, 4, 5, 6, 7, 8, 9])\n",
    "print(a % 2)\n",
    "print(a % 2 == 0)\n",
    "print(a[a % 2 == 0])\n",
    "print(a)\n",
    "a = a[a % 2 == 0]\n",
    "print(a)"
   ]
  },
  {
   "cell_type": "markdown",
   "metadata": {},
   "source": [
    "#### [전치 연산 ]]"
   ]
  },
  {
   "cell_type": "markdown",
   "metadata": {},
   "source": [
    "2차원 배열의 전치(transpose) 연산은 행과 열을 바꾸는 것.\n"
   ]
  },
  {
   "cell_type": "code",
   "execution_count": 18,
   "metadata": {},
   "outputs": [
    {
     "name": "stdout",
     "output_type": "stream",
     "text": [
      "[[1 2 3]\n",
      " [4 5 6]]\n",
      "[[1 4]\n",
      " [2 5]\n",
      " [3 6]]\n"
     ]
    }
   ],
   "source": [
    "A = np.array([[1, 2, 3], [4, 5, 6]])\n",
    "print(A)\n",
    "print(A.T)"
   ]
  }
 ],
 "metadata": {
  "kernelspec": {
   "display_name": "Python 3 (ipykernel)",
   "language": "python",
   "name": "python3"
  },
  "language_info": {
   "codemirror_mode": {
    "name": "ipython",
    "version": 3
   },
   "file_extension": ".py",
   "mimetype": "text/x-python",
   "name": "python",
   "nbconvert_exporter": "python",
   "pygments_lexer": "ipython3",
   "version": "3.11.5"
  }
 },
 "nbformat": 4,
 "nbformat_minor": 2
}
